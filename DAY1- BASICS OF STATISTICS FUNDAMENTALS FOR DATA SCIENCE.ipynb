{
 "cells": [
  {
   "cell_type": "markdown",
   "id": "f549d476",
   "metadata": {},
   "source": [
    "# Basics of Statistics-DATA SCIENCE"
   ]
  },
  {
   "cell_type": "markdown",
   "id": "87252199",
   "metadata": {},
   "source": [
    "# Here are some of the most popular statistics packages in Python:\n",
    "NumPy is a fundamental package for scientific computing with Python. It includes a powerful N-dimensional array object and a collection of routines for linear algebra, Fourier transforms, and more.\n",
    "\n",
    "SciPy is a Python library that provides many user-friendly and efficient numerical routines, such as routines for numerical integration and optimization.\n",
    "\n",
    "Matplotlib is a Python 2D plotting library which produces publication quality figures in a variety of hardcopy formats and interactive environments across platforms.\n",
    "\n",
    "Seaborn is a Python data visualization library based on matplotlib. It provides a high-level interface for creating attractive and informative statistical graphics.\n",
    "\n",
    "Statsmodels is a Python module that provides classes and functions for statistical modeling and econometrics.\n",
    "\n",
    "Pingouin is an open-source statistical package for Python that provides a user-friendly interface for performing common statistical tests and data visualization.\n",
    "\n",
    "Pandas is a Python library providing high-performance, easy-to-use data structures and data analysis tools for working with structured (tabular, multidimensional, potentially heterogeneous) and time series data.\n",
    "\n",
    "Bokeh is an interactive visualization library for modern web browsers. It provides elegant, concise construction of versatile graphics, and offers high-performance interactivity over large or streaming datasets."
   ]
  },
  {
   "cell_type": "code",
   "execution_count": 3,
   "id": "d5e45cbe",
   "metadata": {},
   "outputs": [
    {
     "name": "stdout",
     "output_type": "stream",
     "text": [
      "[21, 12, 11, 11, 11, 15, 19, 21, 16, 13, 17, 21, 11, 19, 15, 10, 18, 17, 12, 18, 16, 16, 10, 11, 18, 10, 18, 10, 17, 19, 19, 10, 11, 16, 19, 21, 20, 15, 20, 17, 15, 18, 12, 10, 15, 14, 10, 15, 15, 11, 19, 16, 17, 12, 14, 19, 16, 20, 16, 12, 10, 11, 16, 20, 14, 20, 17, 17, 18, 11, 16, 15, 14, 20, 19, 14, 12, 15, 15, 12, 19, 12, 14, 17, 16, 10, 14, 18, 19, 13, 12, 14, 11, 14, 12, 20, 12, 21, 10, 13]\n",
      "[57.81, 26.29, 60.23, 35.43, 16.5, 33.78, 44.28, 59.06, 17.89, 63.65, 38.31, 26.66, 35.88, 63.02, 41.46, 64.02, 50.63, 25.03, 28.26, 52.74, 20.7, 19.38, 48.13, 19.87, 18.56, 62.51, 55.23, 19.28, 28.43, 55.34, 35.91, 37.61, 29.02, 31.14, 17.56, 17.78, 33.56, 17.6, 60.57, 42.0, 52.31, 57.31, 57.68, 42.41, 56.31, 15.53, 24.22, 42.84, 24.92, 62.39, 19.5, 50.94, 49.82, 27.03, 60.63, 49.28, 25.92, 39.08, 30.29, 43.49, 62.11, 15.37, 37.83, 44.52, 50.11, 62.02, 57.08, 16.3, 23.54, 32.2, 31.56, 31.35, 59.43, 55.96, 31.52, 59.17, 57.85, 53.1, 18.04, 44.69, 58.67, 63.84, 48.46, 38.8, 38.13, 62.79, 56.29, 52.2, 39.17, 61.18, 41.0, 57.75, 57.03, 40.51, 56.32, 48.84, 64.49, 64.31, 23.66, 55.04]\n",
      "Mean = 15.14\n",
      "Standared Deviation = 3.3882738968389194\n"
     ]
    },
    {
     "data": {
      "image/png": "[encoded data removed]",
      "text/plain": [
       "<Figure size 432x288 with 1 Axes>"
      ]
     },
     "metadata": {
      "needs_background": "light"
     },
     "output_type": "display_data"
    },
    {
     "name": "stdout",
     "output_type": "stream",
     "text": [
      "t-statistic: 44.45953974337271\n",
      "p-value: 3.149407591877207e-67\n"
     ]
    }
   ],
   "source": [
    "import numpy as np\n",
    "import scipy.stats as stats\n",
    "import matplotlib.pyplot as plt\n",
    "import random\n",
    "\n",
    "# Create a list of random integer data\n",
    "age = []\n",
    "weight = []\n",
    "for x in range(100):\n",
    "    age.append(random.randint(10,21))\n",
    "    weight.append(np.round(random.uniform(15,65),2))\n",
    "data=age\n",
    "print(age)\n",
    "print(weight)\n",
    "\n",
    "# Calculate the mean and standard deviation of the data\n",
    "mean = np.mean(data)\n",
    "std = np.std(data)\n",
    "print('Mean =',mean)\n",
    "print(\"Standared Deviation =\", std)\n",
    "# Create a histogram of the data\n",
    "plt.hist(data, bins=20)\n",
    "plt.xlabel('Value')\n",
    "plt.ylabel('Frequency')\n",
    "plt.title('Histogram of Random Data')\n",
    "plt.show()\n",
    "\n",
    "# Perform a t-test on the data\n",
    "t_statistic, p_value= stats.ttest_1samp(data, 0)\n",
    "\n",
    "# Print the results of the t-test\n",
    "print('t-statistic:', t_statistic)\n",
    "print('p-value:', p_value)\n"
   ]
  },
  {
   "cell_type": "code",
   "execution_count": 32,
   "id": "6d50a38e",
   "metadata": {},
   "outputs": [],
   "source": [
    "import statistics as sts"
   ]
  },
  {
   "cell_type": "code",
   "execution_count": 33,
   "id": "f0212092",
   "metadata": {},
   "outputs": [
    {
     "name": "stdout",
     "output_type": "stream",
     "text": [
      "15.26\n",
      "15.0\n",
      "11\n",
      "13.164040404040403\n",
      "3.6282282734194666\n",
      "14.411945703651403\n"
     ]
    }
   ],
   "source": [
    "# Calculate average values\n",
    "print(sts.mean(data))\n",
    "print(sts.median(data))\n",
    "print(sts.mode(data))\n",
    "print(sts.variance(data))\n",
    "print(sts.stdev(data))\n",
    "print(sts.harmonic_mean(data))"
   ]
  },
  {
   "cell_type": "code",
   "execution_count": 34,
   "id": "00b99aed",
   "metadata": {},
   "outputs": [
    {
     "data": {
      "image/png": "[encoded data removed]",
      "text/plain": [
       "<Figure size 432x288 with 1 Axes>"
      ]
     },
     "metadata": {
      "needs_background": "light"
     },
     "output_type": "display_data"
    }
   ],
   "source": [
    "plt.scatter(age, weight, c =\"yellow\", linewidths = 1, marker =\"o\", edgecolor =\"red\", s = 5)\n",
    "plt.xlabel(\"Age\")\n",
    "plt.ylabel(\"Weight\")\n",
    "plt.show()"
   ]
  },
  {
   "cell_type": "code",
   "execution_count": 35,
   "id": "a76ba528",
   "metadata": {},
   "outputs": [
    {
     "data": {
      "image/png": "[encoded data removed]",
      "text/plain": [
       "<Figure size 720x576 with 1 Axes>"
      ]
     },
     "metadata": {
      "needs_background": "light"
     },
     "output_type": "display_data"
    }
   ],
   "source": [
    "figure = plt.figure(figsize =(10, 8))\n",
    "plt.boxplot(data)\n",
    "plt.show()"
   ]
  },
  {
   "cell_type": "code",
   "execution_count": 36,
   "id": "7dda84ea",
   "metadata": {},
   "outputs": [],
   "source": [
    "import pandas as pd"
   ]
  },
  {
   "cell_type": "code",
   "execution_count": 37,
   "id": "fe2376bd",
   "metadata": {},
   "outputs": [],
   "source": [
    "studentdata = pd.read_csv(\"D:/DATA SCIENCE-FDP-11-04-2024/studentmark.csv\")"
   ]
  },
  {
   "cell_type": "code",
   "execution_count": 38,
   "id": "1692f8c0",
   "metadata": {},
   "outputs": [
    {
     "name": "stdout",
     "output_type": "stream",
     "text": [
      "   ROLLNO    NAME SEX  SUB1  SUB2  SUB3  SUB4  SUB5\n",
      "0     501   RAJAN   M    58    63    78    69    74\n",
      "1     502  KANNAN   M    90    86    65    86    78\n",
      "2     503    ARUN   M    67    59    83    75    79\n",
      "3     504  BEAULA   F    83    89    90    83    71\n",
      "4     505  KAILAS   M    45    57    48    67    70\n",
      "5     506     JOE   M    73    78    80    75    77\n",
      "6     507  MARIYA   F    89    80    78    84    80\n",
      "7     508   KUMAR   M    90    84    83    91    81\n",
      "8     509   SELVI   F    34    45    56    63    60\n",
      "9     510    RANI   F    87    67    72    84    83\n"
     ]
    }
   ],
   "source": [
    "print(studentdata)"
   ]
  },
  {
   "cell_type": "markdown",
   "id": "8d20e409",
   "metadata": {},
   "source": [
    "# Bionomial Distribution"
   ]
  },
  {
   "cell_type": "code",
   "execution_count": 12,
   "id": "eed0d5f8",
   "metadata": {},
   "outputs": [
    {
     "name": "stdout",
     "output_type": "stream",
     "text": [
      "P(X=5)= 0.031921361119954424\n",
      "    success           pmf\n",
      "0         0  1.215767e-01\n",
      "1         1  2.701703e-01\n",
      "2         2  2.851798e-01\n",
      "3         3  1.901199e-01\n",
      "4         4  8.977883e-02\n",
      "5         5  3.192136e-02\n",
      "6         6  8.867045e-03\n",
      "7         7  1.970454e-03\n",
      "8         8  3.557765e-04\n",
      "9         9  5.270763e-05\n",
      "10       10  6.442043e-06\n",
      "11       11  6.507115e-07\n",
      "12       12  5.422595e-08\n",
      "13       13  3.707758e-09\n",
      "14       14  2.059865e-10\n",
      "15       15  9.154957e-12\n",
      "16       16  3.178805e-13\n",
      "17       17  8.310600e-15\n",
      "18       18  1.539000e-16\n",
      "19       19  1.800000e-18\n",
      "20       20  1.000000e-20\n"
     ]
    },
    {
     "data": {
      "text/plain": [
       "Text(0.5, 0, 'Number of items returned')"
      ]
     },
     "execution_count": 12,
     "metadata": {},
     "output_type": "execute_result"
    },
    {
     "data": {
      "image/png": "[encoded data removed]",
      "text/plain": [
       "<Figure size 432x288 with 1 Axes>"
      ]
     },
     "metadata": {
      "needs_background": "light"
     },
     "output_type": "display_data"
    }
   ],
   "source": [
    "from scipy import stats\n",
    "import seaborn as sn\n",
    "import matplotlib.pyplot as plt\n",
    "import pandas as pd\n",
    "\n",
    "print('P(X=5)=',stats.binom.pmf(5, 20, 0.1))\n",
    "pmf_df = pd.DataFrame({'success':range(0,21), 'pmf':list(stats.binom.pmf(range(0,21), 20,0.1))})\n",
    "print(pmf_df)\n",
    "sn.barplot(x=pmf_df.success, y=pmf_df.pmf)\n",
    "plt.ylabel('pmf')\n",
    "plt.xlabel('Number of items returned')\n"
   ]
  },
  {
   "cell_type": "code",
   "execution_count": 8,
   "id": "45731c61",
   "metadata": {},
   "outputs": [
    {
     "name": "stdout",
     "output_type": "stream",
     "text": [
      "P(X<3)= 0.6769268051894655\n"
     ]
    }
   ],
   "source": [
    "print('P(X<3)=',stats.binom.cdf(2,20,0.1))"
   ]
  },
  {
   "cell_type": "code",
   "execution_count": 9,
   "id": "66bb91c6",
   "metadata": {},
   "outputs": [
    {
     "name": "stdout",
     "output_type": "stream",
     "text": [
      "P(X>2)= 0.32307319481053454\n"
     ]
    }
   ],
   "source": [
    "print('P(X>2)=',1-stats.binom.cdf(2,20,0.1))"
   ]
  },
  {
   "cell_type": "code",
   "execution_count": 11,
   "id": "de32bc90",
   "metadata": {},
   "outputs": [
    {
     "name": "stdout",
     "output_type": "stream",
     "text": [
      "Mean= 2.0\n",
      "Variance = 1.8\n"
     ]
    }
   ],
   "source": [
    "mean, variance = stats.binom.stats(20,0.1)\n",
    "print('Mean=',mean)\n",
    "print('Variance =',variance)"
   ]
  },
  {
   "cell_type": "markdown",
   "id": "56ef4ad0",
   "metadata": {},
   "source": [
    "# POISSION DISTRIBUTION"
   ]
  },
  {
   "cell_type": "code",
   "execution_count": 13,
   "id": "e6de84fa",
   "metadata": {},
   "outputs": [
    {
     "data": {
      "text/plain": [
       "0.06708596287903189"
      ]
     },
     "execution_count": 13,
     "metadata": {},
     "output_type": "execute_result"
    }
   ],
   "source": [
    "stats.poisson.cdf(5,10)"
   ]
  },
  {
   "cell_type": "code",
   "execution_count": 14,
   "id": "4fbd7028",
   "metadata": {},
   "outputs": [
    {
     "data": {
      "text/plain": [
       "0.45164848742208863"
      ]
     },
     "execution_count": 14,
     "metadata": {},
     "output_type": "execute_result"
    }
   ],
   "source": [
    "1-stats.poisson.cdf(30,30)"
   ]
  },
  {
   "cell_type": "code",
   "execution_count": 16,
   "id": "4bd1bf45",
   "metadata": {},
   "outputs": [
    {
     "name": "stdout",
     "output_type": "stream",
     "text": [
      "P(X<=5)= 0.03783327480207079\n",
      "P(X>30)= 0.45164848742208863\n",
      "    success           pmf\n",
      "0         0  4.539993e-05\n",
      "1         1  4.539993e-04\n",
      "2         2  2.269996e-03\n",
      "3         3  7.566655e-03\n",
      "4         4  1.891664e-02\n",
      "5         5  3.783327e-02\n",
      "6         6  6.305546e-02\n",
      "7         7  9.007923e-02\n",
      "8         8  1.125990e-01\n",
      "9         9  1.251100e-01\n",
      "10       10  1.251100e-01\n",
      "11       11  1.137364e-01\n",
      "12       12  9.478033e-02\n",
      "13       13  7.290795e-02\n",
      "14       14  5.207710e-02\n",
      "15       15  3.471807e-02\n",
      "16       16  2.169879e-02\n",
      "17       17  1.276400e-02\n",
      "18       18  7.091109e-03\n",
      "19       19  3.732163e-03\n",
      "20       20  1.866081e-03\n",
      "21       21  8.886101e-04\n",
      "22       22  4.039137e-04\n",
      "23       23  1.756147e-04\n",
      "24       24  7.317277e-05\n",
      "25       25  2.926911e-05\n",
      "26       26  1.125735e-05\n",
      "27       27  4.169389e-06\n",
      "28       28  1.489067e-06\n",
      "29       29  5.134715e-07\n",
      "30       30  1.711572e-07\n"
     ]
    },
    {
     "data": {
      "text/plain": [
       "Text(0.5, 0, 'Number of items returned')"
      ]
     },
     "execution_count": 16,
     "metadata": {},
     "output_type": "execute_result"
    },
    {
     "data": {
      "image/png": "[encoded data removed]",
      "text/plain": [
       "<Figure size 432x288 with 1 Axes>"
      ]
     },
     "metadata": {
      "needs_background": "light"
     },
     "output_type": "display_data"
    }
   ],
   "source": [
    "print('P(X<=5)=',stats.poisson.pmf(5, 10))\n",
    "print('P(X>30)=',1-stats.poisson.cdf(30,30))\n",
    "pmf_df = pd.DataFrame({'success':range(0,31), 'pmf':list(stats.poisson.pmf(range(0,31), 10))})\n",
    "print(pmf_df)\n",
    "sn.barplot(x=pmf_df.success, y=pmf_df.pmf)\n",
    "plt.ylabel('pmf')\n",
    "plt.xlabel('Number of calls received')"
   ]
  },
  {
   "cell_type": "markdown",
   "id": "c496b561",
   "metadata": {},
   "source": [
    "# EXPONENTIAL DISTRIBUTION"
   ]
  },
  {
   "cell_type": "markdown",
   "id": "668a555a",
   "metadata": {},
   "source": [
    "#Problem: The time to failure of an avionic system follows an exponential distribution with a mean \n",
    "    time between failure of 1000 hours. Calculate\n",
    "    (1) The prabability that the system will fail before 1000 hours\n",
    "    (2) The prabability that it will not fail up to 2000 hours\n",
    "    (3) The time by which 10% of the system will fail\n",
    "    Here lambda = 1/1000"
   ]
  },
  {
   "cell_type": "code",
   "execution_count": 19,
   "id": "2f611be5",
   "metadata": {},
   "outputs": [
    {
     "name": "stdout",
     "output_type": "stream",
     "text": [
      "P(X<1000) =  0.6321201909489325\n"
     ]
    }
   ],
   "source": [
    "print('P(X<1000) = ',stats.expon.cdf(1000,loc=1/1000,scale=1000))"
   ]
  },
  {
   "cell_type": "code",
   "execution_count": 21,
   "id": "5d5ac094",
   "metadata": {},
   "outputs": [
    {
     "name": "stdout",
     "output_type": "stream",
     "text": [
      "P(X>2000) = 1- P(X<=2000)= 0.13533541857196363\n"
     ]
    }
   ],
   "source": [
    "print('P(X>2000) = 1- P(X<=2000)=',1-stats.expon.cdf(2000,loc=1/1000,scale=1000))"
   ]
  },
  {
   "cell_type": "code",
   "execution_count": 24,
   "id": "6235685a",
   "metadata": {},
   "outputs": [
    {
     "name": "stdout",
     "output_type": "stream",
     "text": [
      "X =  105.36151565782632 Hrs\n"
     ]
    }
   ],
   "source": [
    "print('X = ',stats.expon.ppf(0.1,loc=1/1000,scale=1000),'Hrs') # inverse cdf, ppf-percent point function"
   ]
  },
  {
   "cell_type": "code",
   "execution_count": 26,
   "id": "e2e565fd",
   "metadata": {},
   "outputs": [
    {
     "name": "stdout",
     "output_type": "stream",
     "text": [
      "    success       pdf\n",
      "0         0  0.000000\n",
      "1       200  0.000819\n",
      "2       400  0.000670\n",
      "3       600  0.000549\n",
      "4       800  0.000449\n",
      "5      1000  0.000368\n",
      "6      1200  0.000301\n",
      "7      1400  0.000247\n",
      "8      1600  0.000202\n",
      "9      1800  0.000165\n",
      "10     2000  0.000135\n",
      "11     2200  0.000111\n",
      "12     2400  0.000091\n",
      "13     2600  0.000074\n",
      "14     2800  0.000061\n",
      "15     3000  0.000050\n",
      "16     3200  0.000041\n",
      "17     3400  0.000033\n",
      "18     3600  0.000027\n",
      "19     3800  0.000022\n",
      "20     4000  0.000018\n",
      "21     4200  0.000015\n",
      "22     4400  0.000012\n",
      "23     4600  0.000010\n",
      "24     4800  0.000008\n"
     ]
    },
    {
     "data": {
      "text/plain": [
       "Text(0.5, 0, 'Time to failure')"
      ]
     },
     "execution_count": 26,
     "metadata": {},
     "output_type": "execute_result"
    },
    {
     "data": {
      "image/png": "[encoded data removed]",
      "text/plain": [
       "<Figure size 432x288 with 1 Axes>"
      ]
     },
     "metadata": {
      "needs_background": "light"
     },
     "output_type": "display_data"
    }
   ],
   "source": [
    "pdf_df = pd.DataFrame({'success':range(0,5000,200), 'pdf':list(stats.expon.pdf(range(0,5000,200), loc=1/1000, scale=1000))})\n",
    "print(pdf_df)\n",
    "sn.barplot(x=pdf_df.success, y=pdf_df.pdf)\n",
    "plt.ylabel('pdf')\n",
    "plt.xticks(rotation=90)\n",
    "plt.xlabel('Time to failure')"
   ]
  },
  {
   "cell_type": "markdown",
   "id": "22a4526b",
   "metadata": {},
   "source": [
    "# NORMAL DISTRIBUTION"
   ]
  },
  {
   "cell_type": "code",
   "execution_count": null,
   "id": "23bea2ab",
   "metadata": {},
   "outputs": [],
   "source": []
  }
 ],
 "metadata": {
  "kernelspec": {
   "display_name": "Python 3",
   "language": "python",
   "name": "python3"
  },
  "language_info": {
   "codemirror_mode": {
    "name": "ipython",
    "version": 3
   },
   "file_extension": ".py",
   "mimetype": "text/x-python",
   "name": "python",
   "nbconvert_exporter": "python",
   "pygments_lexer": "ipython3",
   "version": "3.8.8"
  }
 },
 "nbformat": 4,
 "nbformat_minor": 5
}
